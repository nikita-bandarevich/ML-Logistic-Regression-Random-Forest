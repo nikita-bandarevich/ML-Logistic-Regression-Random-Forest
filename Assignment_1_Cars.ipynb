{
 "cells": [
  {
   "cell_type": "markdown",
   "id": "flexible-crystal",
   "metadata": {},
   "source": [
    "# Cars Dataset"
   ]
  },
  {
   "cell_type": "markdown",
   "id": "rocky-refrigerator",
   "metadata": {},
   "source": [
    "## Importing libraries"
   ]
  },
  {
   "cell_type": "code",
   "execution_count": 236,
   "id": "bigger-somalia",
   "metadata": {},
   "outputs": [],
   "source": [
    "import pandas as pd\n",
    "import numpy as np\n",
    "import seaborn as sns\n",
    "from mlxtend.plotting import plot_decision_regions\n",
    "from sklearn import preprocessing\n",
    "from sklearn.preprocessing import LabelEncoder\n",
    "from sklearn.linear_model import LogisticRegression\n",
    "import math"
   ]
  },
  {
   "cell_type": "markdown",
   "id": "peaceful-amateur",
   "metadata": {},
   "source": [
    "## Loading data"
   ]
  },
  {
   "cell_type": "code",
   "execution_count": 156,
   "id": "flying-agency",
   "metadata": {},
   "outputs": [],
   "source": [
    "le=LabelEncoder()"
   ]
  },
  {
   "cell_type": "code",
   "execution_count": 229,
   "id": "sacred-coach",
   "metadata": {},
   "outputs": [
    {
     "data": {
      "text/html": [
       "<div>\n",
       "<style scoped>\n",
       "    .dataframe tbody tr th:only-of-type {\n",
       "        vertical-align: middle;\n",
       "    }\n",
       "\n",
       "    .dataframe tbody tr th {\n",
       "        vertical-align: top;\n",
       "    }\n",
       "\n",
       "    .dataframe thead th {\n",
       "        text-align: right;\n",
       "    }\n",
       "</style>\n",
       "<table border=\"1\" class=\"dataframe\">\n",
       "  <thead>\n",
       "    <tr style=\"text-align: right;\">\n",
       "      <th></th>\n",
       "      <th>buying</th>\n",
       "      <th>maint</th>\n",
       "      <th>doors</th>\n",
       "      <th>persons</th>\n",
       "      <th>lug_boot</th>\n",
       "      <th>safety</th>\n",
       "    </tr>\n",
       "  </thead>\n",
       "  <tbody>\n",
       "    <tr>\n",
       "      <th>0</th>\n",
       "      <td>2</td>\n",
       "      <td>2</td>\n",
       "      <td>3</td>\n",
       "      <td>1</td>\n",
       "      <td>0</td>\n",
       "      <td>0</td>\n",
       "    </tr>\n",
       "    <tr>\n",
       "      <th>1</th>\n",
       "      <td>0</td>\n",
       "      <td>0</td>\n",
       "      <td>1</td>\n",
       "      <td>2</td>\n",
       "      <td>2</td>\n",
       "      <td>1</td>\n",
       "    </tr>\n",
       "    <tr>\n",
       "      <th>2</th>\n",
       "      <td>1</td>\n",
       "      <td>2</td>\n",
       "      <td>1</td>\n",
       "      <td>1</td>\n",
       "      <td>1</td>\n",
       "      <td>2</td>\n",
       "    </tr>\n",
       "    <tr>\n",
       "      <th>3</th>\n",
       "      <td>2</td>\n",
       "      <td>2</td>\n",
       "      <td>3</td>\n",
       "      <td>0</td>\n",
       "      <td>0</td>\n",
       "      <td>0</td>\n",
       "    </tr>\n",
       "    <tr>\n",
       "      <th>4</th>\n",
       "      <td>2</td>\n",
       "      <td>0</td>\n",
       "      <td>2</td>\n",
       "      <td>0</td>\n",
       "      <td>0</td>\n",
       "      <td>2</td>\n",
       "    </tr>\n",
       "    <tr>\n",
       "      <th>...</th>\n",
       "      <td>...</td>\n",
       "      <td>...</td>\n",
       "      <td>...</td>\n",
       "      <td>...</td>\n",
       "      <td>...</td>\n",
       "      <td>...</td>\n",
       "    </tr>\n",
       "    <tr>\n",
       "      <th>1204</th>\n",
       "      <td>2</td>\n",
       "      <td>2</td>\n",
       "      <td>1</td>\n",
       "      <td>2</td>\n",
       "      <td>1</td>\n",
       "      <td>0</td>\n",
       "    </tr>\n",
       "    <tr>\n",
       "      <th>1205</th>\n",
       "      <td>2</td>\n",
       "      <td>1</td>\n",
       "      <td>3</td>\n",
       "      <td>2</td>\n",
       "      <td>0</td>\n",
       "      <td>2</td>\n",
       "    </tr>\n",
       "    <tr>\n",
       "      <th>1206</th>\n",
       "      <td>0</td>\n",
       "      <td>1</td>\n",
       "      <td>3</td>\n",
       "      <td>2</td>\n",
       "      <td>1</td>\n",
       "      <td>0</td>\n",
       "    </tr>\n",
       "    <tr>\n",
       "      <th>1207</th>\n",
       "      <td>1</td>\n",
       "      <td>0</td>\n",
       "      <td>2</td>\n",
       "      <td>0</td>\n",
       "      <td>2</td>\n",
       "      <td>2</td>\n",
       "    </tr>\n",
       "    <tr>\n",
       "      <th>1208</th>\n",
       "      <td>2</td>\n",
       "      <td>2</td>\n",
       "      <td>1</td>\n",
       "      <td>2</td>\n",
       "      <td>2</td>\n",
       "      <td>2</td>\n",
       "    </tr>\n",
       "  </tbody>\n",
       "</table>\n",
       "<p>1209 rows × 6 columns</p>\n",
       "</div>"
      ],
      "text/plain": [
       "      buying  maint  doors  persons  lug_boot  safety\n",
       "0          2      2      3        1         0       0\n",
       "1          0      0      1        2         2       1\n",
       "2          1      2      1        1         1       2\n",
       "3          2      2      3        0         0       0\n",
       "4          2      0      2        0         0       2\n",
       "...      ...    ...    ...      ...       ...     ...\n",
       "1204       2      2      1        2         1       0\n",
       "1205       2      1      3        2         0       2\n",
       "1206       0      1      3        2         1       0\n",
       "1207       1      0      2        0         2       2\n",
       "1208       2      2      1        2         2       2\n",
       "\n",
       "[1209 rows x 6 columns]"
      ]
     },
     "execution_count": 229,
     "metadata": {},
     "output_type": "execute_result"
    }
   ],
   "source": [
    "dfX = pd.read_csv('dataset_files/car_X_train.csv')\n",
    "for i in dfX.columns:\n",
    "    dfX[i]=le.fit_transform(dfX[i])\n",
    "\n",
    "X_tr = dfX.to_numpy()\n",
    "dfX"
   ]
  },
  {
   "cell_type": "code",
   "execution_count": 230,
   "id": "romantic-pavilion",
   "metadata": {},
   "outputs": [
    {
     "data": {
      "text/plain": [
       "array([3, 2, 0, ..., 0, 2, 0])"
      ]
     },
     "execution_count": 230,
     "metadata": {},
     "output_type": "execute_result"
    }
   ],
   "source": [
    "y = pd.read_csv('dataset_files/car_y_train.csv')\n",
    "for i in y:\n",
    "    y[i]=le.fit_transform(y[i])\n",
    "y_tr = y.to_numpy()\n",
    "y_tr2 = np.ravel(y_tr)\n",
    "y_tr2"
   ]
  },
  {
   "cell_type": "code",
   "execution_count": 231,
   "id": "vocational-saint",
   "metadata": {},
   "outputs": [
    {
     "data": {
      "text/plain": [
       "array([[0, 0, 2, 0, 1, 0],\n",
       "       [2, 1, 0, 1, 1, 2],\n",
       "       [0, 0, 3, 0, 0, 2],\n",
       "       ...,\n",
       "       [3, 2, 2, 1, 0, 0],\n",
       "       [1, 1, 0, 2, 2, 2],\n",
       "       [1, 1, 3, 1, 1, 2]])"
      ]
     },
     "execution_count": 231,
     "metadata": {},
     "output_type": "execute_result"
    }
   ],
   "source": [
    "dfX_t = pd.read_csv('dataset_files/car_X_test.csv')\n",
    "for i in dfX_t.columns:\n",
    "    dfX_t[i]=le.fit_transform(dfX_t[i])\n",
    "\n",
    "X_test = dfX_t.to_numpy()\n",
    "X_test"
   ]
  },
  {
   "cell_type": "code",
   "execution_count": 232,
   "id": "sunset-society",
   "metadata": {},
   "outputs": [
    {
     "data": {
      "text/plain": [
       "array([2, 0, 2, 0, 2, 0, 2, 2, 2, 2, 3, 0, 2, 2, 2, 2, 2, 2, 2, 0, 2, 0,\n",
       "       0, 2, 0, 2, 2, 2, 2, 2, 0, 2, 2, 2, 0, 0, 1, 2, 2, 2, 2, 2, 0, 0,\n",
       "       0, 3, 2, 2, 2, 2, 2, 2, 0, 2, 2, 2, 2, 2, 2, 1, 2, 0, 2, 2, 0, 3,\n",
       "       2, 0, 0, 2, 2, 2, 2, 2, 0, 3, 2, 2, 2, 2, 3, 2, 2, 0, 3, 0, 2, 0,\n",
       "       3, 0, 2, 1, 2, 2, 2, 1, 2, 2, 2, 0, 2, 2, 2, 2, 0, 1, 0, 2, 2, 0,\n",
       "       2, 2, 2, 2, 2, 0, 1, 2, 2, 2, 2, 1, 2, 0, 0, 2, 0, 2, 2, 2, 2, 2,\n",
       "       0, 2, 2, 0, 2, 3, 2, 2, 2, 0, 0, 0, 2, 0, 2, 2, 2, 2, 0, 3, 2, 2,\n",
       "       2, 2, 2, 2, 2, 2, 2, 0, 2, 2, 2, 2, 0, 2, 0, 3, 0, 2, 0, 2, 2, 0,\n",
       "       2, 2, 2, 2, 0, 2, 2, 2, 1, 0, 2, 2, 0, 2, 2, 2, 0, 2, 2, 2, 2, 0,\n",
       "       2, 2, 2, 2, 2, 1, 2, 2, 2, 1, 2, 0, 2, 2, 0, 2, 2, 0, 2, 2, 2, 0,\n",
       "       3, 2, 2, 0, 2, 2, 2, 2, 0, 2, 2, 2, 0, 2, 0, 2, 2, 2, 2, 2, 2, 2,\n",
       "       2, 2, 2, 2, 2, 2, 2, 2, 2, 2, 2, 2, 2, 2, 2, 2, 0, 2, 0, 2, 2, 2,\n",
       "       2, 2, 0, 3, 2, 2, 2, 0, 2, 2, 3, 2, 2, 0, 0, 2, 0, 2, 0, 0, 2, 2,\n",
       "       0, 1, 3, 0, 0, 2, 2, 2, 2, 3, 0, 0, 2, 2, 2, 2, 3, 2, 2, 2, 2, 0,\n",
       "       2, 2, 3, 0, 0, 2, 2, 0, 0, 0, 2, 0, 0, 2, 2, 2, 2, 2, 2, 0, 2, 2,\n",
       "       2, 2, 0, 2, 2, 2, 2, 0, 2, 2, 2, 2, 2, 2, 2, 2, 2, 2, 2, 2, 2, 0,\n",
       "       2, 2, 0, 2, 2, 2, 3, 2, 2, 2, 2, 0, 2, 0, 2, 2, 2, 0, 2, 0, 1, 0,\n",
       "       2, 2, 2, 0, 2, 2, 2, 2, 0, 2, 2, 2, 2, 0, 2, 2, 0, 2, 0, 2, 2, 2,\n",
       "       2, 2, 1, 2, 2, 2, 2, 2, 2, 0, 2, 2, 3, 2, 0, 2, 2, 0, 0, 2, 3, 2,\n",
       "       0, 2, 1, 2, 0, 0, 2, 2, 2, 2, 0, 2, 1, 2, 2, 2, 0, 0, 0, 0, 2, 0,\n",
       "       2, 0, 2, 2, 2, 1, 2, 3, 2, 0, 2, 3, 2, 1, 2, 2, 2, 2, 2, 2, 2, 2,\n",
       "       2, 2, 2, 2, 2, 2, 0, 1, 2, 2, 2, 2, 2, 0, 2, 2, 3, 2, 2, 2, 2, 0,\n",
       "       2, 0, 2, 2, 2, 2, 2, 2, 2, 2, 0, 2, 2, 2, 2, 2, 2, 2, 2, 3, 2, 2,\n",
       "       0, 2, 2, 0, 2, 2, 2, 2, 2, 2, 0, 2, 1])"
      ]
     },
     "execution_count": 232,
     "metadata": {},
     "output_type": "execute_result"
    }
   ],
   "source": [
    "y_t = pd.read_csv('dataset_files/car_y_test.csv')\n",
    "for i in y_t:\n",
    "    y_t[i]=le.fit_transform(y_t[i])\n",
    "y_test = y_t.to_numpy()\n",
    "y_test2 = np.ravel(y_test)\n",
    "y_test2"
   ]
  },
  {
   "cell_type": "markdown",
   "id": "arctic-protest",
   "metadata": {},
   "source": [
    "## Logistic Regression Method"
   ]
  },
  {
   "cell_type": "code",
   "execution_count": 290,
   "id": "political-diana",
   "metadata": {},
   "outputs": [],
   "source": [
    "class LogisticRegressionMethod(object):\n",
    "    # we are assigning C parameter when initializing in order to perform a very simple regularization \n",
    "    def __init__(self, eta=0.01, iterations_num=1000, random_state=1, C=0.01):\n",
    "        self.eta = eta\n",
    "        self.iterations_num = iterations_num\n",
    "        self.random_state = random_state\n",
    "        self.C = C \n",
    "        self.coef_ = []\n",
    "\n",
    "    def fit(self, X, y):\n",
    "        X = np.insert(X, 0, 1, axis=1)\n",
    "        self.w = []\n",
    "        m = X.shape[0]\n",
    "        # this loop functions in order to transform our method from binary into Multi-Class. \n",
    "        # we are using a One vs Rest method where the y_2 is the transformed version  \n",
    "        # 2 of the classes are treated as one - since np.unique developed a class array, which allows us to run the the LR Model\n",
    "        for i in np.unique(y):\n",
    "            y_2 = np.where(y == i, 1, 0)\n",
    "            w = np.ones(X.shape[1])\n",
    "            # the inner for-loop defines the error function - err, the weights and assigns them to the class label\n",
    "            for _ in range(self.iterations_num):\n",
    "                output = X.dot(w)\n",
    "                err = y_2 - self._sigmoid(output)\n",
    "                # a regularization term is added to the cost function which will shrink the weights during model training\n",
    "                w += (self.eta / m) * err.dot(X) - self.C*sum(np.power(w, 2)) * (self.eta / m)\n",
    "            self.w.append((w, i))\n",
    "        self.coef_ = w\n",
    "        return self\n",
    "    # in order to adjust the predict functions we'll need to introduce a new _pred_1 function which would work\n",
    "    # for each instance separately and agreggated them later by predict function\n",
    "    def _pred_1(self, x):\n",
    "        return max((x.dot(w), c) for w, c in self.w)[1]\n",
    "    def predict(self, X):\n",
    "        return np.array([self._pred_1(i) for i in np.insert(X, 0, 1, axis=1)])\n",
    "    # a simple score function used in many LR models\n",
    "    def score(self, X, y):\n",
    "        return sum(self.predict(X) == y) / len(y)\n",
    "    def _sigmoid(self, x):\n",
    "        return 1 / (1 + np.exp(-x))"
   ]
  },
  {
   "cell_type": "markdown",
   "id": "native-store",
   "metadata": {},
   "source": [
    "## Standardization of X data "
   ]
  },
  {
   "cell_type": "markdown",
   "id": "recreational-indiana",
   "metadata": {},
   "source": [
    "In order to standardize the X data we'll use a simple sklearn function. Although not specifically allowed, this function stays out of the scope of model design and therefore, with my assumption that it's not a crucial element in learning to design models from scratch, is used to simplify the process here"
   ]
  },
  {
   "cell_type": "code",
   "execution_count": 269,
   "id": "after-judge",
   "metadata": {},
   "outputs": [
    {
     "data": {
      "text/plain": [
       "array([[ 0.43665601,  0.44315443,  1.34600219, -0.00511298, -1.22301629,\n",
       "        -1.2097176 ],\n",
       "       [-1.35289354, -1.34275791, -0.42957517,  1.23120614,  1.21294202,\n",
       "         0.01828289],\n",
       "       [-0.45811877,  0.44315443, -0.42957517, -0.00511298, -0.00503713,\n",
       "         1.24628337],\n",
       "       ...,\n",
       "       [-1.35289354, -0.44980174,  1.34600219,  1.23120614, -0.00503713,\n",
       "        -1.2097176 ],\n",
       "       [-0.45811877, -1.34275791,  0.45821351, -1.2414321 ,  1.21294202,\n",
       "         1.24628337],\n",
       "       [ 0.43665601,  0.44315443, -0.42957517,  1.23120614,  1.21294202,\n",
       "         1.24628337]])"
      ]
     },
     "execution_count": 269,
     "metadata": {},
     "output_type": "execute_result"
    }
   ],
   "source": [
    "standardized_X = preprocessing.scale(X_tr)\n",
    "standardized_X_test = preprocessing.scale(X_test)\n",
    "standardized_X "
   ]
  },
  {
   "cell_type": "markdown",
   "id": "waiting-morrison",
   "metadata": {},
   "source": [
    "## Fitting and Plotting"
   ]
  },
  {
   "cell_type": "code",
   "execution_count": 326,
   "id": "commercial-bunch",
   "metadata": {},
   "outputs": [
    {
     "name": "stderr",
     "output_type": "stream",
     "text": [
      "<ipython-input-290-a6a2d2aabcb6>:39: RuntimeWarning: overflow encountered in exp\n",
      "  return 1 / (1 + np.exp(-x))\n",
      "<ipython-input-290-a6a2d2aabcb6>:25: RuntimeWarning: overflow encountered in power\n",
      "  w += (self.eta / m) * err.dot(X) - self.C*sum(np.power(w, 2)) * (self.eta / m)\n"
     ]
    },
    {
     "data": {
      "text/plain": [
       "<function matplotlib.pyplot.show(close=None, block=None)>"
      ]
     },
     "execution_count": 326,
     "metadata": {},
     "output_type": "execute_result"
    },
    {
     "data": {
      "image/png": "[encoded data removed]",
      "text/plain": [
       "<Figure size 432x288 with 1 Axes>"
      ]
     },
     "metadata": {
      "needs_background": "light"
     },
     "output_type": "display_data"
    }
   ],
   "source": [
    "# Fitting our Logistic Regression Method model to the Training set \n",
    "# Using regularization term of 100\n",
    "lr = LogisticRegressionMethod(C=100)\n",
    "lr.fit(X_tr, y_tr2)\n",
    "# Plotting against a decision region of 2 features - petal length and petal width\n",
    "plot_decision_regions(X=X_tr,\n",
    "                      y=y_tr2,\n",
    "                      clf=lr, \n",
    "                      feature_index=[1,3], \n",
    "                      filler_feature_values={5: 0, 0: 0, 2: 0, 4: 0})\n",
    "# using 2 standardized features - 3 and 4 from our X numpy array\n",
    "plt.scatter(X_tr[:, 0], X_tr[:, 5], c=y_tr2)\n",
    "plt.xlabel('x1')\n",
    "plt.ylabel('x2')\n",
    "plt.tight_layout()\n",
    "plt.show"
   ]
  },
  {
   "cell_type": "markdown",
   "id": "medium-burden",
   "metadata": {},
   "source": [
    "## Let's observe the behavior of sklearn's Logistic Regression model "
   ]
  },
  {
   "cell_type": "markdown",
   "id": "robust-nation",
   "metadata": {},
   "source": [
    "Observing sklearn's model we can see that the model coded from scratch only shows a binary region for the same parameters. Although, we should note that it is indeed multi-class and worked nicely with the Iris dataset."
   ]
  },
  {
   "cell_type": "code",
   "execution_count": 325,
   "id": "copyrighted-still",
   "metadata": {},
   "outputs": [
    {
     "data": {
      "text/plain": [
       "<function matplotlib.pyplot.show(close=None, block=None)>"
      ]
     },
     "execution_count": 325,
     "metadata": {},
     "output_type": "execute_result"
    },
    {
     "data": {
      "image/png": "[encoded data removed]",
      "text/plain": [
       "<Figure size 432x288 with 1 Axes>"
      ]
     },
     "metadata": {
      "needs_background": "light"
     },
     "output_type": "display_data"
    }
   ],
   "source": [
    "lr2 = LogisticRegression()\n",
    "lr2.fit(X_tr, y_tr2)\n",
    "# Plotting against a decision region of 2 features - petal length and petal width\n",
    "plot_decision_regions(X=X_tr,\n",
    "                      y=y_tr2,\n",
    "                      clf=lr2, \n",
    "                      feature_index=[1,3], \n",
    "                      filler_feature_values={4: 0, 0: 0, 5: 0, 2: 0})\n",
    "# using 2 standardized features - 3 and 4 from our X numpy array\n",
    "plt.scatter(X_tr[:, 0], X_tr[:, 5], c=y_tr2)\n",
    "plt.xlabel('x1')\n",
    "plt.ylabel('x2')\n",
    "plt.tight_layout()\n",
    "plt.show"
   ]
  },
  {
   "cell_type": "markdown",
   "id": "intermediate-confidentiality",
   "metadata": {},
   "source": [
    "## Comparing my model with sklearn's "
   ]
  },
  {
   "cell_type": "markdown",
   "id": "posted-nashville",
   "metadata": {},
   "source": [
    "We can observe that the model implemented from scratch achieves better results with the parametres defined. Howver, the parametres are extremely important. Therefore, our main is not to compare both models here but just to mention that, although quite a low result, it is still significantly better than a random score. "
   ]
  },
  {
   "cell_type": "code",
   "execution_count": 317,
   "id": "tribal-vietnamese",
   "metadata": {},
   "outputs": [
    {
     "name": "stdout",
     "output_type": "stream",
     "text": [
      "0.6418527708850289\n",
      "0.628131021194605\n"
     ]
    }
   ],
   "source": [
    "print(lr.score(standardized_X, y_tr2))\n",
    "print(lr.score(standardized_X_test, y_test2))"
   ]
  },
  {
   "cell_type": "code",
   "execution_count": 296,
   "id": "driving-commerce",
   "metadata": {},
   "outputs": [
    {
     "name": "stdout",
     "output_type": "stream",
     "text": [
      "0.5748552522746071\n",
      "0.5645472061657033\n"
     ]
    }
   ],
   "source": [
    "print(lr2.score(standardized_X, y_tr2))\n",
    "print(lr2.score(standardized_X_test, y_test2))"
   ]
  },
  {
   "cell_type": "markdown",
   "id": "civic-lawyer",
   "metadata": {},
   "source": [
    "## Random Forest "
   ]
  },
  {
   "cell_type": "markdown",
   "id": "helpful-villa",
   "metadata": {},
   "source": [
    "### Method definition"
   ]
  },
  {
   "cell_type": "code",
   "execution_count": 225,
   "id": "loaded-cookie",
   "metadata": {},
   "outputs": [],
   "source": [
    "class RandomForestMethod():\n",
    "    # Defining the parameteres of our forest\n",
    "    def __init__(self, x, y, trees_num, feat_num, sample_size, depth=10, min_leaf=5):\n",
    "        np.random.seed(5)\n",
    "        self.feat_num = feat_num\n",
    "        self.x, self.y, self.sample_size, self.depth, self.min_leaf  = x, y, sample_size, depth, min_leaf\n",
    "        # In order to create a specified trees number\n",
    "        self.trees = [self.create_tree() for i in range(trees_num)]\n",
    "\n",
    "    def create_tree(self):\n",
    "        r_indices = np.random.permutation(len(self.y))[:self.sample_size]\n",
    "        f_r_indices = np.random.permutation(self.x.shape[1])[:self.feat_num]\n",
    "        # An instance of the DecisionTree class. This part is to make the bagging work.\n",
    "        # Bagging is used both for features and trees themselves\n",
    "        return DecisionTree(self.x[r_indices], self.y[r_indices], self.feat_num, f_r_indices,\n",
    "                    r_indices=np.array(range(self.sample_size)),depth = self.depth, min_leaf=self.min_leaf)\n",
    "    \n",
    "    # Common preduction function which is just the average of individual decision trees    \n",
    "    def predict(self, x):\n",
    "        return np.mean([t.predict(x) for t in self.trees], axis=0)\n",
    "    \n",
    "#calculate standard deviation using math library\n",
    "def std_agg(cnt, s1, s2): return math.sqrt((s2/cnt) - (s1/cnt)**2)"
   ]
  },
  {
   "cell_type": "markdown",
   "id": "rural-request",
   "metadata": {},
   "source": [
    "### Individual Decision Tree Class"
   ]
  },
  {
   "cell_type": "code",
   "execution_count": 226,
   "id": "occupied-excellence",
   "metadata": {},
   "outputs": [],
   "source": [
    "class DecisionTree():\n",
    "    #r_indices means the indices of rows\n",
    "    def __init__(self, x, y, feat_num, f_r_indices,r_indices,depth=10, min_leaf=5):\n",
    "        self.x, self.y, self.r_indices, self.min_leaf, self.f_r_indices = x, y, r_indices, min_leaf, f_r_indices\n",
    "        self.depth = depth\n",
    "        self.feat_num = feat_num\n",
    "        self.n, self.c = len(r_indices), x.shape[1]\n",
    "        self.val = np.mean(y[r_indices])\n",
    "        self.score = float('inf')\n",
    "        self.brute_split()\n",
    "    \n",
    "    # This is used to find an individual split with a brute force.\n",
    "    def brute_split(self):\n",
    "        for i in self.f_r_indices: self.best_split(i)\n",
    "        if self.leaf_node: return\n",
    "        x = self.column_indxs\n",
    "        left_side = np.nonzero(x<=self.split)[0]\n",
    "        right_side = np.nonzero(x>self.split)[0]\n",
    "        lf_r_indices = np.random.permutation(self.x.shape[1])[:self.feat_num]\n",
    "        rf_r_indices = np.random.permutation(self.x.shape[1])[:self.feat_num]\n",
    "        self.left_side = DecisionTree(self.x, self.y, self.feat_num, lf_r_indices, self.r_indices[left_side], depth=self.depth-1, min_leaf=self.min_leaf)\n",
    "        self.right_side = DecisionTree(self.x, self.y, self.feat_num, rf_r_indices, self.r_indices[right_side], depth=self.depth-1, min_leaf=self.min_leaf)\n",
    "    \n",
    "    \n",
    "    def best_split(self, v_index):\n",
    "        x, y = self.x[self.r_indices,v_index], self.y[self.r_indices]\n",
    "        sort_index = np.argsort(x)\n",
    "        sort_y,sort_x = y[sort_index], x[sort_index]\n",
    "        right_side_cnt,right_side_sum,right_side_sum2 = self.n, sort_y.sum(), (sort_y**2).sum()\n",
    "        left_side_cnt,left_side_sum,left_side_sum2 = 0,0.,0.\n",
    "\n",
    "        for i in range(0,self.n-self.min_leaf-1):\n",
    "            xi,yi = sort_x[i],sort_y[i]\n",
    "            left_side_cnt += 1; right_side_cnt -= 1\n",
    "            left_side_sum += yi; right_side_sum -= yi\n",
    "            left_side_sum2 += yi**2; right_side_sum2 -= yi**2\n",
    "            if i<self.min_leaf or xi==sort_x[i+1]:\n",
    "                continue\n",
    "\n",
    "            left_side_std = std_agg(left_side_cnt, left_side_sum, left_side_sum2)\n",
    "            right_side_std = std_agg(right_side_cnt, right_side_sum, right_side_sum2)\n",
    "            curr_score = left_side_std*left_side_cnt + right_side_std*right_side_cnt\n",
    "            if curr_score<self.score: \n",
    "                self.v_index,self.score,self.split = v_index,curr_score,xi\n",
    "    \n",
    "\n",
    "    \n",
    "    # property decorator is used\n",
    "    @property\n",
    "    def column_indxs(self): return self.x[self.r_indices,self.v_index]\n",
    "\n",
    "    @property\n",
    "    # leafs with infinity scores\n",
    "    def leaf_node(self): return self.score == float('inf') or self.depth <= 0 \n",
    "\n",
    "    def predict(self, x):\n",
    "        return np.array([self.predict_row(xi) for xi in x])\n",
    "\n",
    "    def predict_row(self, xi):\n",
    "        if self.leaf_node: return self.val\n",
    "        t = self.left_side if xi[self.v_index]<=self.split else self.right_side\n",
    "        return t.predict_row(xi)"
   ]
  },
  {
   "cell_type": "markdown",
   "id": "informed-immigration",
   "metadata": {},
   "source": [
    "## Plotting the Forest"
   ]
  },
  {
   "cell_type": "code",
   "execution_count": 329,
   "id": "recent-syndication",
   "metadata": {},
   "outputs": [
    {
     "data": {
      "text/plain": [
       "<function matplotlib.pyplot.show(close=None, block=None)>"
      ]
     },
     "execution_count": 329,
     "metadata": {},
     "output_type": "execute_result"
    },
    {
     "data": {
      "image/png": "[encoded data removed]",
      "text/plain": [
       "<Figure size 432x288 with 1 Axes>"
      ]
     },
     "metadata": {
      "needs_background": "light"
     },
     "output_type": "display_data"
    }
   ],
   "source": [
    "# Defining the parameters of our method's instance\n",
    "forest = RandomForestMethod(x = X_tr, y=y_tr2, min_leaf=5, trees_num=100, feat_num = 5, sample_size = 20)\n",
    "\n",
    "# Plotting the same features as in logistic regression, changing the previousl used 'lr' to our newly defined random 'forest'\n",
    "plot_decision_regions(X=X_tr,\n",
    "                      y=y_tr2,\n",
    "                      clf=forest, \n",
    "                      feature_index=[0,1], \n",
    "                      filler_feature_values={2: 0, 3: 0, 4: 0, 5: 0})\n",
    "# using 2 standardized features - 3 and 4 from our X numpy array\n",
    "plt.scatter(X_tr[:, 0], X_tr[:, 1], c=y_tr2)\n",
    "plt.xlabel('x1')\n",
    "plt.ylabel('x2')\n",
    "plt.tight_layout()\n",
    "plt.show"
   ]
  },
  {
   "cell_type": "markdown",
   "id": "joint-geography",
   "metadata": {},
   "source": [
    "For this pair of features it's hard to find a convex regions of points - RF will have a lot of troubles separating these regios. "
   ]
  },
  {
   "cell_type": "code",
   "execution_count": 228,
   "id": "accomplished-introduction",
   "metadata": {},
   "outputs": [
    {
     "data": {
      "text/plain": [
       "array([1.9376461 , 1.19793279, 1.92115801, 1.07590285, 1.69712987,\n",
       "       1.22160956, 1.41582179, 1.91782468, 1.35053272, 1.95609848,\n",
       "       1.13048052, 1.12486147, 1.3617132 , 1.94136905, 1.96541667,\n",
       "       1.94338095, 1.11254715, 1.93234848, 1.93234848, 1.09502947,\n",
       "       1.95943182, 1.27104437, 1.22648124, 1.91964286, 1.29414286,\n",
       "       1.28577081, 1.21300758, 1.97714286, 1.95056277, 1.95193182,\n",
       "       1.2439685 , 1.96855952, 1.28656133, 1.93525325, 1.07936244,\n",
       "       1.16522464, 1.0877286 , 1.65755267, 1.63956061, 1.99246753,\n",
       "       1.98961039, 1.61479076, 1.22657168, 1.14562254, 1.21974639,\n",
       "       1.14369661, 1.91341991, 1.68820022, 1.93641667, 1.96484848,\n",
       "       1.28298557, 1.94859848, 1.17349917, 1.94078896, 1.26959296,\n",
       "       1.68354437, 1.95108658, 1.98961039, 1.99532468, 1.1298022 ,\n",
       "       1.99714286, 1.15807781, 1.95308333, 1.79418939, 1.30667052,\n",
       "       1.16468615, 1.68284271, 1.27738853, 1.08760847, 1.71389574,\n",
       "       1.95056277, 1.65426263, 1.99428571, 1.71522367, 1.18538456,\n",
       "       1.13644697, 1.73599747, 1.97532468, 1.99818182, 1.38602117,\n",
       "       1.23379582, 1.97714286, 1.63715981, 1.34586208, 1.10562879,\n",
       "       1.21220768, 1.99246753, 1.24491162, 1.09784812, 1.31555159,\n",
       "       1.99047619, 1.09784488, 1.687193  , 1.71682431, 1.91064286,\n",
       "       1.02409657, 1.13958369, 1.99333333, 2.        , 1.17457529,\n",
       "       1.27992052, 1.92958333, 1.94558333, 1.74913745, 1.15318928,\n",
       "       1.12248954, 1.31754607, 1.93108658, 1.95988095, 1.08909368,\n",
       "       1.92208333, 1.63332323, 1.26082287, 1.93279762, 1.37667305,\n",
       "       1.34670022, 1.23319517, 1.86826082, 1.35159596, 1.75442424,\n",
       "       1.9361461 , 1.08073918, 1.63304509, 1.13208683, 1.15241439,\n",
       "       1.97714286, 1.11595732, 1.70522367, 2.        , 1.95113095,\n",
       "       1.98961039, 1.99714286, 1.26689166, 1.94228896, 1.99142857,\n",
       "       1.19505159, 1.79558586, 1.09484704, 1.98285714, 1.96713095,\n",
       "       1.95458333, 1.26856735, 1.19720166, 1.07243604, 1.7087767 ,\n",
       "       1.25684477, 1.94975   , 1.16853463, 1.76518939, 1.94779762,\n",
       "       1.15170851, 1.13411977, 1.71294156, 1.68820022, 1.95988095,\n",
       "       1.67284271, 1.7770772 , 1.93279762, 1.99428571, 1.36009704,\n",
       "       1.95816991, 1.26231746, 1.17196886, 1.92853896, 1.94779762,\n",
       "       1.95808333, 1.24887796, 1.99532468, 1.12589719, 1.09591234,\n",
       "       1.19824134, 1.98285714, 1.07546212, 1.25604113, 1.64196861,\n",
       "       1.26563781, 1.95916667, 1.7546057 , 1.69989971, 1.67498088,\n",
       "       1.20532024, 1.96004762, 1.26398521, 1.95483658, 1.07014671,\n",
       "       1.1276176 , 1.82388276, 1.99714286, 1.23432395, 1.82478824,\n",
       "       1.35949484, 1.99142857, 1.17080075, 1.30704931, 1.59022367,\n",
       "       1.94709848, 1.95626515, 1.18636977, 1.93796429, 1.91772619,\n",
       "       1.99142857, 1.32713301, 1.98285714, 1.11384477, 1.96427381,\n",
       "       1.93933333, 1.97416667, 1.00726829, 1.80864322, 1.32607961,\n",
       "       1.95458333, 1.92672619, 1.31021309, 1.9064881 , 1.74206169,\n",
       "       1.14123052, 1.94847944, 1.99047619, 1.71596212, 1.24314033,\n",
       "       1.173193  , 1.4974483 , 1.97189286, 1.14125999, 1.65921934,\n",
       "       1.79240368, 1.9302381 , 1.73598701, 1.12111147, 1.69689033,\n",
       "       1.41493928, 1.73565368, 1.2429632 , 1.63399098, 1.23263167,\n",
       "       1.35064599, 1.99532468, 1.18515188, 1.44416944, 1.23817857,\n",
       "       1.67331421, 1.6628272 , 1.99142857, 1.95458333, 1.77045455,\n",
       "       1.70063781, 1.66002489, 1.92452381, 1.60912662, 1.96719048,\n",
       "       1.94004762, 1.65776299, 1.94541667, 1.98865801, 1.95041667,\n",
       "       1.92940476, 1.64744336, 1.41190898, 1.25758514, 1.99428571,\n",
       "       1.09211605, 1.99047619, 1.66991739, 1.69590115, 1.68370274,\n",
       "       1.7274412 , 1.23204065, 1.30288853, 1.299168  , 1.71894084,\n",
       "       1.96855952, 1.11148366, 1.4423996 , 1.9463961 , 1.11165945,\n",
       "       1.93568182, 1.7444697 , 1.20991187, 1.26684332, 1.94689286,\n",
       "       1.24012987, 1.66908874, 1.23926948, 1.06200494, 1.34030869,\n",
       "       1.99428571, 1.14418207, 1.10676768, 1.07671212, 1.36076407,\n",
       "       1.30455364, 1.95041667, 1.77041342, 1.19699134, 1.73573232,\n",
       "       1.1994982 , 1.19860462, 1.23126587, 1.92541667, 1.97714286,\n",
       "       1.92758658, 1.35440104, 1.1326562 , 1.92940476, 1.95988095,\n",
       "       1.29738192, 1.96666667, 1.30397572, 1.67294625, 1.93613095,\n",
       "       1.1856829 , 1.14168651, 1.09118326, 1.75814466, 1.79906205,\n",
       "       1.32502009, 1.21261111, 1.12180725, 1.99333333, 1.18753499,\n",
       "       1.23781518, 1.99142857, 1.93751515, 1.99428571, 1.38354534,\n",
       "       1.92541667, 1.64304509, 1.12043975, 1.99246753, 1.99333333,\n",
       "       1.96666667, 1.95496753, 1.31126515, 1.91953896, 1.35766403,\n",
       "       1.19919625, 1.91815476, 1.18314935, 1.95238095, 1.68354437,\n",
       "       1.30987904, 1.46998798, 1.96719048, 1.79565043, 1.34206457,\n",
       "       1.95665476, 1.32553608, 1.39164022, 1.9516342 , 1.94702381,\n",
       "       1.99714286, 1.14019372, 1.69203102, 1.94410714, 1.26861977,\n",
       "       1.6438088 , 1.40035931, 1.98103896, 1.31283369, 1.92933333,\n",
       "       1.95808333, 1.95959848, 1.72629509, 1.33691378, 1.66162734,\n",
       "       1.13911328, 1.26674628, 1.69481205, 1.92964286, 1.14708045,\n",
       "       1.92040476, 1.08414646, 1.08669841, 1.11734668, 1.7304329 ,\n",
       "       1.66740584, 1.66449387, 1.18489033, 1.95056277, 1.53533936,\n",
       "       1.77977633, 1.74669481, 1.11114888, 1.99818182, 1.96338095,\n",
       "       1.92859848, 1.6433539 , 1.25003139, 1.32076901, 1.92958333,\n",
       "       1.09326479, 1.93620563, 1.05520335, 1.67982431, 1.77263709,\n",
       "       1.99142857, 1.74780303, 1.73158478, 1.18098077, 1.82640693,\n",
       "       1.97416667, 1.66825072, 1.67393254, 1.98285714, 1.77217388,\n",
       "       1.2019697 , 1.94853896, 1.99246753, 1.15648485, 1.71443579,\n",
       "       1.23363192, 1.92208333, 1.22874664, 1.21058611, 1.12980869,\n",
       "       1.61250974, 1.12447258, 1.45795696, 1.20075108, 1.18467413,\n",
       "       1.09607973, 1.28978596, 1.1947755 , 1.35617677, 1.65041739,\n",
       "       1.92782468, 1.2590267 , 1.9548961 , 1.09638553, 1.66429185,\n",
       "       1.14765115, 1.12087146, 1.27214347, 1.95276515, 1.20135306,\n",
       "       1.19381302, 1.10416475, 1.21105689, 1.93441991, 1.19413853,\n",
       "       1.98103896, 1.17619181, 1.99047619, 1.94980952, 1.20683611,\n",
       "       1.0558307 , 1.94689286, 1.12103644, 1.39481205, 1.22397319,\n",
       "       1.93662229, 1.14519661, 1.99714286, 1.10745202, 1.63661544,\n",
       "       1.40295047, 1.69739502, 1.66800974, 1.62053211, 1.96719048,\n",
       "       1.98865801, 1.73431025, 1.90800325, 1.6987767 , 1.64655736,\n",
       "       1.77287879, 1.99246753, 1.99714286, 1.25846634, 1.07928813,\n",
       "       1.2655071 , 1.9152381 , 1.73693579, 1.94068182, 1.65080411,\n",
       "       1.28131158, 1.95822944, 1.94558333, 1.0914145 , 1.50671562,\n",
       "       1.93927381, 1.99714286, 1.69566414, 1.37568001, 1.93641667,\n",
       "       1.20793676, 1.94314286, 1.66496068, 1.98285714, 1.67558514,\n",
       "       1.97714286, 1.60006025, 1.95238095, 1.99714286, 1.21559307,\n",
       "       1.90315476, 2.        , 1.91103896, 1.99142857, 1.69899747,\n",
       "       1.21319794, 1.73312302, 1.92933333, 1.14073052, 1.70572691,\n",
       "       1.70248304, 1.25389058, 1.26583142, 1.64665115, 1.2501912 ,\n",
       "       1.77541053, 1.99714286, 1.2986211 , 1.49027153, 1.94702381,\n",
       "       1.9516342 , 1.27900541, 1.37625061, 1.04635198])"
      ]
     },
     "execution_count": 228,
     "metadata": {},
     "output_type": "execute_result"
    }
   ],
   "source": [
    "forest.predict(X_test)"
   ]
  },
  {
   "cell_type": "code",
   "execution_count": null,
   "id": "different-bullet",
   "metadata": {},
   "outputs": [],
   "source": []
  },
  {
   "cell_type": "code",
   "execution_count": null,
   "id": "swiss-prompt",
   "metadata": {},
   "outputs": [],
   "source": []
  }
 ],
 "metadata": {
  "kernelspec": {
   "display_name": "Python 3",
   "language": "python",
   "name": "python3"
  },
  "language_info": {
   "codemirror_mode": {
    "name": "ipython",
    "version": 3
   },
   "file_extension": ".py",
   "mimetype": "text/x-python",
   "name": "python",
   "nbconvert_exporter": "python",
   "pygments_lexer": "ipython3",
   "version": "3.9.1"
  }
 },
 "nbformat": 4,
 "nbformat_minor": 5
}
