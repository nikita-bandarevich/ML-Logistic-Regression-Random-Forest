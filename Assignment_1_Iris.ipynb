{
 "cells": [
  {
   "cell_type": "markdown",
   "id": "opening-music",
   "metadata": {},
   "source": [
    "# Iris Dataset"
   ]
  },
  {
   "cell_type": "markdown",
   "id": "compound-grocery",
   "metadata": {},
   "source": [
    "#### Importing libraries"
   ]
  },
  {
   "cell_type": "code",
   "execution_count": 552,
   "id": "affected-absence",
   "metadata": {},
   "outputs": [],
   "source": [
    "import pandas as pd\n",
    "import numpy as np\n",
    "import seaborn as sns\n",
    "import matplotlib.pyplot as plt\n",
    "import xgboost as xgb\n",
    "from mlxtend.plotting import plot_decision_regions\n",
    "import math\n",
    "\n",
    "#used only for standardization \n",
    "from sklearn.model_selection import train_test_split"
   ]
  },
  {
   "cell_type": "markdown",
   "id": "distinguished-people",
   "metadata": {},
   "source": [
    "#### Loading data"
   ]
  },
  {
   "cell_type": "code",
   "execution_count": 488,
   "id": "european-birthday",
   "metadata": {},
   "outputs": [],
   "source": [
    "#Loading Xtrain data into a pandas dataset and transforming into a numpy array \n",
    "\n",
    "dfX = pd.read_csv('dataset_files/iris_X_train.csv')\n",
    "X_tr = dfX.to_numpy()"
   ]
  },
  {
   "cell_type": "code",
   "execution_count": 489,
   "id": "wooden-expression",
   "metadata": {
    "scrolled": true
   },
   "outputs": [
    {
     "data": {
      "text/plain": [
       "array([0, 1, 0, 2, 1, 0, 2, 2, 2, 0, 1, 2, 2, 2, 0, 2, 0, 1, 2, 0, 1, 2,\n",
       "       1, 1, 0, 0, 1, 0, 2, 0, 1, 2, 2, 0, 0, 2, 1, 2, 2, 0, 0, 1, 0, 1,\n",
       "       1, 0, 2, 2, 1, 1, 2, 2, 2, 0, 1, 2, 1, 1, 2, 0, 0, 1, 0, 1, 2, 1,\n",
       "       0, 1, 0, 0, 0, 2, 0, 0, 2, 0, 1, 1, 2, 0, 1, 1, 2, 1, 2, 0, 1, 1,\n",
       "       0, 1, 0, 0, 1, 1, 2, 0, 1, 2, 0, 1])"
      ]
     },
     "execution_count": 489,
     "metadata": {},
     "output_type": "execute_result"
    }
   ],
   "source": [
    "#Loading Ytrain data into a pandas dataset and transforming into a numpy array \n",
    "y = pd.read_csv('dataset_files/iris_y_train.csv')\n",
    "y_tr = y.to_numpy()\n",
    "y_tr2 = np.ravel(y_tr)\n",
    "y_tr2"
   ]
  },
  {
   "cell_type": "code",
   "execution_count": 491,
   "id": "attended-blackberry",
   "metadata": {},
   "outputs": [],
   "source": [
    "#Loading Xtest data into a pandas dataset and transforming into a numpy array \n",
    "\n",
    "dfXt = pd.read_csv('dataset_files/iris_X_test.csv')\n",
    "X_test = dfXt.to_numpy()"
   ]
  },
  {
   "cell_type": "code",
   "execution_count": 492,
   "id": "designed-teens",
   "metadata": {},
   "outputs": [
    {
     "data": {
      "text/plain": [
       "array([0, 2, 1, 0, 0, 2, 0, 1, 0, 0, 1, 2, 2, 2, 2, 0, 1, 0, 0, 1, 2, 1,\n",
       "       2, 1, 1, 1, 1, 1, 2, 2, 2, 2, 0, 2, 2, 1, 0, 2, 2, 2, 1, 0, 0, 2,\n",
       "       2, 0, 1, 1, 0, 1])"
      ]
     },
     "execution_count": 492,
     "metadata": {},
     "output_type": "execute_result"
    }
   ],
   "source": [
    "#Loading Ytest data into a pandas dataset and transforming into a numpy array \n",
    "\n",
    "yt = pd.read_csv('dataset_files/iris_y_test.csv')\n",
    "y_test = yt.to_numpy()\n",
    "y_test2 = np.ravel(y_test)\n",
    "y_test2"
   ]
  },
  {
   "cell_type": "markdown",
   "id": "wireless-jacksonville",
   "metadata": {},
   "source": [
    "## Logistic Regression Method"
   ]
  },
  {
   "cell_type": "code",
   "execution_count": 640,
   "id": "straight-georgia",
   "metadata": {},
   "outputs": [],
   "source": [
    "class LogisticRegressionMethod(object):\n",
    "    # we are assigning C parameter when initializing in order to perform a very simple regularization \n",
    "    def __init__(self, eta=0.1, iterations_num=10, random_state=1, C=0.01):\n",
    "        self.eta = eta\n",
    "        self.iterations_num = iterations_num\n",
    "        self.random_state = random_state\n",
    "        self.C = C \n",
    "        self.coef_ = []\n",
    "\n",
    "    def fit(self, X, y):\n",
    "        X = np.insert(X, 0, 1, axis=1)\n",
    "        self.w = []\n",
    "        m = X.shape[0]\n",
    "        # this loop functions in order to transform our method from binary into Multi-Class. \n",
    "        # we are using a One vs Rest method where the y_2 is the transformed version  \n",
    "        # 2 of the classes are treated as one - since np.unique developed a class array, which allows us to run the the LR Model\n",
    "        for i in np.unique(y):\n",
    "            y_2 = np.where(y == i, 1, 0)\n",
    "            w = np.ones(X.shape[1])\n",
    "            # the inner for-loop defines the error function - err, the weights and assigns them to the class label\n",
    "            for _ in range(self.iterations_num):\n",
    "                output = X.dot(w)\n",
    "                err = y_2 - self._sigmoid(output)\n",
    "                # a regularization term is added to the cost function which will shrink the weights during model training\n",
    "                w += (self.eta / m) * err.dot(X) - self.C*sum(np.power(w, 2)) * (self.eta / m)\n",
    "            self.w.append((w, i))\n",
    "        self.coef_ = w\n",
    "        return self\n",
    "    # in order to adjust the predict functions we'll need to introduce a new _pred_1 function which would work\n",
    "    # for each instance separately and agreggated them later by predict function\n",
    "    def _pred_1(self, x):\n",
    "        return max((x.dot(w), c) for w, c in self.w)[1]\n",
    "    def predict(self, X):\n",
    "        return np.array([self._pred_1(i) for i in np.insert(X, 0, 1, axis=1)])\n",
    "    # a simple score function used in many LR models\n",
    "    def score(self, X, y):\n",
    "        return sum(self.predict(X) == y) / len(y)\n",
    "    def _sigmoid(self, x):\n",
    "        return 1 / (1 + np.exp(-x))"
   ]
  },
  {
   "cell_type": "markdown",
   "id": "abroad-design",
   "metadata": {},
   "source": [
    "## Standardization of X data "
   ]
  },
  {
   "cell_type": "markdown",
   "id": "loved-pocket",
   "metadata": {},
   "source": [
    "In order to standardize the X data we'll use a simple sklearn function. Although not specifically allowed, this function stays out of the scope of model design and therefore, with my assumption that it's not a crucial element in learning to design models from scratch, is used to simplify the process here"
   ]
  },
  {
   "cell_type": "code",
   "execution_count": 504,
   "id": "chicken-concentration",
   "metadata": {},
   "outputs": [],
   "source": [
    "# We are preprocessing both test and train data. \n",
    "\n",
    "standardized_X = preprocessing.scale(X_tr)\n",
    "standardized_X_test = preprocessing.scale(X_test)"
   ]
  },
  {
   "cell_type": "markdown",
   "id": "visible-papua",
   "metadata": {},
   "source": [
    "## Fitting and Plotting"
   ]
  },
  {
   "cell_type": "code",
   "execution_count": 641,
   "id": "italic-request",
   "metadata": {},
   "outputs": [
    {
     "data": {
      "text/plain": [
       "<function matplotlib.pyplot.show(close=None, block=None)>"
      ]
     },
     "execution_count": 641,
     "metadata": {},
     "output_type": "execute_result"
    },
    {
     "data": {
      "image/png": "[encoded data removed]",
      "text/plain": [
       "<Figure size 432x288 with 1 Axes>"
      ]
     },
     "metadata": {
      "needs_background": "light"
     },
     "output_type": "display_data"
    }
   ],
   "source": [
    "# Fitting our Logistic Regression Method model to the Training set \n",
    "# Using very small regularization term\n",
    "lr = LogisticRegressionMethod(C=100)\n",
    "lr.fit(standardized_X, y_tr2)\n",
    "# Plotting against a decision region of 2 features - petal length and petal width\n",
    "plot_decision_regions(X=np.array(standardized_X),\n",
    "                      y=y_tr2,\n",
    "                      clf=lr, \n",
    "                      feature_index=[0,3], \n",
    "                      filler_feature_values={1: 0, 2: 0})\n",
    "# using 2 standardized features - 3 and 4 from our X numpy array\n",
    "plt.scatter(standardized_X[:, 2], standardized_X[:, 3], c=y_tr2)\n",
    "plt.xlabel('petal length [standardized]')\n",
    "plt.ylabel('petal width [standardized]')\n",
    "plt.tight_layout()\n",
    "plt.show"
   ]
  },
  {
   "cell_type": "markdown",
   "id": "political-crazy",
   "metadata": {},
   "source": [
    "## Let's evaluate the train/test model scores"
   ]
  },
  {
   "cell_type": "code",
   "execution_count": 642,
   "id": "relative-coaching",
   "metadata": {
    "scrolled": true
   },
   "outputs": [
    {
     "name": "stdout",
     "output_type": "stream",
     "text": [
      "0.88\n",
      "0.86\n"
     ]
    }
   ],
   "source": [
    "#the model is underfitting\n",
    "print(lr.score(standardized_X, y_tr2))\n",
    "print(lr.score(standardized_X_test, y_test2))"
   ]
  },
  {
   "cell_type": "markdown",
   "id": "special-saskatchewan",
   "metadata": {},
   "source": [
    "## Developing and plotting more complex L2 Regularization "
   ]
  },
  {
   "cell_type": "code",
   "execution_count": 643,
   "id": "perfect-independence",
   "metadata": {},
   "outputs": [
    {
     "name": "stderr",
     "output_type": "stream",
     "text": [
      "<ipython-input-640-171682eaea80>:39: RuntimeWarning: overflow encountered in exp\n",
      "  return 1 / (1 + np.exp(-x))\n",
      "<ipython-input-640-171682eaea80>:25: RuntimeWarning: overflow encountered in power\n",
      "  w += (self.eta / m) * err.dot(X) - self.C*sum(np.power(w, 2)) * (self.eta / m)\n"
     ]
    },
    {
     "data": {
      "image/png": "[encoded data removed]",
      "text/plain": [
       "<Figure size 432x288 with 1 Axes>"
      ]
     },
     "metadata": {
      "needs_background": "light"
     },
     "output_type": "display_data"
    }
   ],
   "source": [
    "# With regularization. As you increase the cost . \n",
    "# feautres diverge over the c - the greater the weight, the greater the regularization coef, \n",
    "# which shouldn't be the case. Might be a problem with Log.Reg. implementation.\n",
    "\n",
    "weights, params = [], []\n",
    "for c in np.arange(-5, 5):\n",
    "    lr = LogisticRegressionMethod(C=10.0**c)\n",
    "    lr.fit(standardized_X, y_tr2)\n",
    "    weights.append(lr.coef_)\n",
    "    params.append(10.**c)\n",
    "weights = np.array(weights)\n",
    "plt.plot(params, weights[:, 0],\n",
    "        label='petal length')\n",
    "plt.plot(params, weights[:, 1], linestyle='--',\n",
    "        label='petal_width')\n",
    "plt.ylabel('weight coefficient')\n",
    "plt.xlabel('C')\n",
    "plt.legend(loc='upper left')\n",
    "plt.xscale('log')\n",
    "plt.show()"
   ]
  },
  {
   "cell_type": "markdown",
   "id": "equipped-ambassador",
   "metadata": {},
   "source": [
    "## Random Forest Method"
   ]
  },
  {
   "cell_type": "markdown",
   "id": "caroline-employment",
   "metadata": {},
   "source": [
    "### Defining the method"
   ]
  },
  {
   "cell_type": "code",
   "execution_count": 644,
   "id": "educational-shipping",
   "metadata": {},
   "outputs": [],
   "source": [
    "class RandomForestMethod():\n",
    "    # Defining the parameteres of our forest\n",
    "    def __init__(self, x, y, trees_num, feat_num, sample_size, depth=10, min_leaf=5):\n",
    "        np.random.seed(5)\n",
    "        self.feat_num = feat_num\n",
    "        self.x, self.y, self.sample_size, self.depth, self.min_leaf  = x, y, sample_size, depth, min_leaf\n",
    "        # In order to create a specified trees number\n",
    "        self.trees = [self.create_tree() for i in range(trees_num)]\n",
    "\n",
    "    def create_tree(self):\n",
    "        r_indices = np.random.permutation(len(self.y))[:self.sample_size]\n",
    "        f_r_indices = np.random.permutation(self.x.shape[1])[:self.feat_num]\n",
    "        # An instance of the DecisionTree class. This part is to make the bagging work.\n",
    "        # Bagging is used both for features and trees themselves\n",
    "        return DecisionTree(self.x[r_indices], self.y[r_indices], self.feat_num, f_r_indices,\n",
    "                    r_indices=np.array(range(self.sample_size)),depth = self.depth, min_leaf=self.min_leaf)\n",
    "    \n",
    "    # Common preduction function which is just the average of individual decision trees    \n",
    "    def predict(self, x):\n",
    "        return np.mean([t.predict(x) for t in self.trees], axis=0)"
   ]
  },
  {
   "cell_type": "markdown",
   "id": "another-integral",
   "metadata": {},
   "source": [
    "### Individual Decision tree class"
   ]
  },
  {
   "cell_type": "code",
   "execution_count": 645,
   "id": "brazilian-contents",
   "metadata": {},
   "outputs": [],
   "source": [
    "class DecisionTree():\n",
    "    #r_indices means the indices of rows\n",
    "    def __init__(self, x, y, feat_num, f_r_indices,r_indices,depth=10, min_leaf=5):\n",
    "        self.x, self.y, self.r_indices, self.min_leaf, self.f_r_indices = x, y, r_indices, min_leaf, f_r_indices\n",
    "        self.depth = depth\n",
    "        self.feat_num = feat_num\n",
    "        self.n, self.c = len(r_indices), x.shape[1]\n",
    "        self.val = np.mean(y[r_indices])\n",
    "        self.score = float('inf')\n",
    "        self.brute_split()\n",
    "    \n",
    "    # This is used to find an individual split with a brute force.\n",
    "    def brute_split(self):\n",
    "        for i in self.f_r_indices: self.best_split(i)\n",
    "        if self.leaf_node: return\n",
    "        x = self.column_indxs\n",
    "        left_side = np.nonzero(x<=self.split)[0]\n",
    "        right_side = np.nonzero(x>self.split)[0]\n",
    "        lf_r_indices = np.random.permutation(self.x.shape[1])[:self.feat_num]\n",
    "        rf_r_indices = np.random.permutation(self.x.shape[1])[:self.feat_num]\n",
    "        self.left_side = DecisionTree(self.x, self.y, self.feat_num, lf_r_indices, self.r_indices[left_side], depth=self.depth-1, min_leaf=self.min_leaf)\n",
    "        self.right_side = DecisionTree(self.x, self.y, self.feat_num, rf_r_indices, self.r_indices[right_side], depth=self.depth-1, min_leaf=self.min_leaf)\n",
    "    \n",
    "    def best_split(self, v_index):\n",
    "        x, y = self.x[self.r_indices,v_index], self.y[self.r_indices]\n",
    "        sort_index = np.argsort(x)\n",
    "        sort_y,sort_x = y[sort_index], x[sort_index]\n",
    "        right_side_cnt,right_side_sum,right_side_sum2 = self.n, sort_y.sum(), (sort_y**2).sum()\n",
    "        left_side_cnt,left_side_sum,left_side_sum2 = 0,0.,0.\n",
    "\n",
    "        for i in range(0,self.n-self.min_leaf-1):\n",
    "            xi,yi = sort_x[i],sort_y[i]\n",
    "            left_side_cnt += 1; right_side_cnt -= 1\n",
    "            left_side_sum += yi; right_side_sum -= yi\n",
    "            left_side_sum2 += yi**2; right_side_sum2 -= yi**2\n",
    "            if i<self.min_leaf or xi==sort_x[i+1]:\n",
    "                continue\n",
    "\n",
    "            left_side_std = std_agg(left_side_cnt, left_side_sum, left_side_sum2)\n",
    "            right_side_std = std_agg(right_side_cnt, right_side_sum, right_side_sum2)\n",
    "            curr_score = left_side_std*left_side_cnt + right_side_std*right_side_cnt\n",
    "            if curr_score<self.score: \n",
    "                self.v_index,self.score,self.split = v_index,curr_score,xi\n",
    "    \n",
    "    #calculate standard deviation using math library\n",
    "    def std_agg(cnt, s1, s2): return math.sqrt((s2/cnt) - (s1/cnt)**2)\n",
    "    \n",
    "    # property decorator is used\n",
    "    @property\n",
    "    def column_indxs(self): return self.x[self.r_indices,self.v_index]\n",
    "\n",
    "    @property\n",
    "    # leafs with infinity scores\n",
    "    def leaf_node(self): return self.score == float('inf') or self.depth <= 0 \n",
    "\n",
    "    def predict(self, x):\n",
    "        return np.array([self.predict_row(xi) for xi in x])\n",
    "\n",
    "    def predict_row(self, xi):\n",
    "        if self.leaf_node: return self.val\n",
    "        t = self.left_side if xi[self.v_index]<=self.split else self.right_side\n",
    "        return t.predict_row(xi)"
   ]
  },
  {
   "cell_type": "markdown",
   "id": "authorized-taxation",
   "metadata": {},
   "source": [
    "## Plotting the Forest"
   ]
  },
  {
   "cell_type": "code",
   "execution_count": 692,
   "id": "quick-postcard",
   "metadata": {},
   "outputs": [
    {
     "data": {
      "text/plain": [
       "<function matplotlib.pyplot.show(close=None, block=None)>"
      ]
     },
     "execution_count": 692,
     "metadata": {},
     "output_type": "execute_result"
    },
    {
     "data": {
      "image/png": "[encoded data removed]",
      "text/plain": [
       "<Figure size 432x288 with 1 Axes>"
      ]
     },
     "metadata": {
      "needs_background": "light"
     },
     "output_type": "display_data"
    }
   ],
   "source": [
    "# Defining the parameters of our method's instance\n",
    "forest = RandomForestMethod(x = X_tr, y=y_tr2, min_leaf=3, trees_num=10, feat_num = 4, sample_size=50)\n",
    "\n",
    "# Plotting the same features as in logistic regression, changing the previousl used 'lr' t our newly defined random 'forest'\n",
    "plot_decision_regions(X=X_tr,\n",
    "                      y=y_tr2,\n",
    "                      clf=forest, \n",
    "                      feature_index=[2,3],\n",
    "                      filler_feature_values={0: 0, 1: 0})\n",
    "plt.scatter(X_tr[:, 2], X_tr[:, 3], c=y_tr2)\n",
    "plt.xlabel('petal length [cm]')\n",
    "plt.ylabel('petal width [cm]')\n",
    "plt.tight_layout()\n",
    "plt.show"
   ]
  },
  {
   "cell_type": "markdown",
   "id": "needed-embassy",
   "metadata": {},
   "source": [
    "## Let's see how our model performs with test data"
   ]
  },
  {
   "cell_type": "code",
   "execution_count": 670,
   "id": "incomplete-zambia",
   "metadata": {},
   "outputs": [
    {
     "data": {
      "text/plain": [
       "array([0.11252778, 1.98      , 0.99633333, 0.1385754 , 0.1860754 ,\n",
       "       2.        , 0.        , 0.96125397, 0.16246825, 0.        ,\n",
       "       0.95692063, 2.        , 2.        , 2.        , 2.        ,\n",
       "       0.37635317, 1.        , 0.01275   , 0.03308333, 1.        ,\n",
       "       2.        , 0.80013889, 2.        , 1.        , 0.98833333,\n",
       "       0.99633333, 0.97138095, 0.98833333, 2.        , 2.        ,\n",
       "       2.        , 2.        , 0.01891667, 2.        , 2.        ,\n",
       "       0.89704365, 0.1345754 , 2.        , 2.        , 2.        ,\n",
       "       0.94873016, 0.29471825, 0.21201984, 2.        , 2.        ,\n",
       "       0.01675   , 0.46219444, 0.96904762, 0.01891667, 0.98833333])"
      ]
     },
     "execution_count": 670,
     "metadata": {},
     "output_type": "execute_result"
    }
   ],
   "source": [
    "forest.predict(X_test)"
   ]
  },
  {
   "cell_type": "markdown",
   "id": "progressive-absolute",
   "metadata": {},
   "source": [
    "Defining a very simplified classification function which takes rounds the results to a specific class"
   ]
  },
  {
   "cell_type": "code",
   "execution_count": 671,
   "id": "naughty-entrance",
   "metadata": {},
   "outputs": [
    {
     "data": {
      "text/plain": [
       "0.98"
      ]
     },
     "execution_count": 671,
     "metadata": {},
     "output_type": "execute_result"
    }
   ],
   "source": [
    "def make_classification(pred):\n",
    "    if pred < 0.75:\n",
    "        return 0\n",
    "    elif pred < 1.25:\n",
    "        return 1\n",
    "    else:\n",
    "        return 2\n",
    "\n",
    "y_pred = [make_classification(pred) for pred in forest.predict(X_test)]\n",
    " \n",
    "# Using the same score function from the logistic regression\n",
    "def score(y_pred, y):\n",
    "    return sum(y_pred == y) / len(y)\n",
    "\n",
    "score(y_pred, np.ravel(y_test))"
   ]
  },
  {
   "cell_type": "code",
   "execution_count": null,
   "id": "south-aquatic",
   "metadata": {},
   "outputs": [],
   "source": []
  }
 ],
 "metadata": {
  "kernelspec": {
   "display_name": "Python 3",
   "language": "python",
   "name": "python3"
  },
  "language_info": {
   "codemirror_mode": {
    "name": "ipython",
    "version": 3
   },
   "file_extension": ".py",
   "mimetype": "text/x-python",
   "name": "python",
   "nbconvert_exporter": "python",
   "pygments_lexer": "ipython3",
   "version": "3.9.1"
  }
 },
 "nbformat": 4,
 "nbformat_minor": 5
}
